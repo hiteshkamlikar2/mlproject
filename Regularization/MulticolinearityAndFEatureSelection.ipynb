{
 "cells": [
  {
   "cell_type": "code",
   "execution_count": 1,
   "metadata": {},
   "outputs": [],
   "source": [
    "import pandas as pd \n",
    "dataset = pd.read_csv(\"C:\\\\Users\\\\2004674\\\\Downloads\\\\mcl.csv\")\n",
    "\n",
    "df = dataset.copy()"
   ]
  },
  {
   "cell_type": "code",
   "execution_count": 2,
   "metadata": {},
   "outputs": [],
   "source": [
    "# split the data into x (independent ) and y (predicted)\n",
    "x = df.iloc[:,:-1]\n",
    "y = df.iloc[:,-1]"
   ]
  },
  {
   "cell_type": "code",
   "execution_count": 3,
   "metadata": {},
   "outputs": [],
   "source": [
    "# correlation matrix of the dataset\n",
    "\n",
    "correlation = x.corr()"
   ]
  },
  {
   "cell_type": "code",
   "execution_count": 6,
   "metadata": {},
   "outputs": [],
   "source": [
    "# perform thr three regression on the data \n",
    "from sklearn.linear_model import Lasso , Ridge, LinearRegression\n",
    "\n",
    "# perform the simple linear regression\n",
    "\n",
    "lr = LinearRegression()\n",
    "lr.fit(x,y)\n",
    "\n",
    "# get the coeffinint\n",
    "lr_coeff = lr.coef_\n",
    "lr_intecept = lr.intercept_"
   ]
  },
  {
   "cell_type": "code",
   "execution_count": 7,
   "metadata": {},
   "outputs": [],
   "source": [
    "# lasso Regression\n",
    "\n",
    "lasso = Lasso(alpha=10)\n",
    "lasso.fit(x,y)\n",
    "lasso_coeff = lasso.coef_\n",
    "lasso_intecept = lasso.intercept_\n",
    "\n",
    "#Ridge regression\n",
    "ridge = Ridge(alpha=100)\n",
    "ridge.fit(x,y)\n",
    "ridge_coeff = ridge.coef_\n",
    "ridge_intecept = ridge.intercept_"
   ]
  }
 ],
 "metadata": {
  "kernelspec": {
   "display_name": "Python 3",
   "language": "python",
   "name": "python3"
  },
  "language_info": {
   "codemirror_mode": {
    "name": "ipython",
    "version": 3
   },
   "file_extension": ".py",
   "mimetype": "text/x-python",
   "name": "python",
   "nbconvert_exporter": "python",
   "pygments_lexer": "ipython3",
   "version": "3.11.4"
  }
 },
 "nbformat": 4,
 "nbformat_minor": 2
}
