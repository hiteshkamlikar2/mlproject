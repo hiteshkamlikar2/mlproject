{
 "cells": [
  {
   "cell_type": "code",
   "execution_count": 1,
   "metadata": {},
   "outputs": [],
   "source": [
    "import pandas as pd\n",
    "\n",
    "f = pd.read_csv(\"C:\\\\Users\\\\2004674\\\\Downloads\\\\Students2.csv\")\n",
    "\n",
    "x = f.iloc[:,:-1]\n",
    "y = f.iloc[:,-1]"
   ]
  },
  {
   "cell_type": "code",
   "execution_count": 3,
   "metadata": {},
   "outputs": [
    {
     "name": "stdout",
     "output_type": "stream",
     "text": [
      "  \n",
      "  \n",
      "  \n",
      "  features      f_score       P-values  \n",
      " .............     ........       ....... \n",
      "    Hours          141.91     0.000000\n",
      "    sHours           4.57     0.041403\n",
      "    hoursplayed      0.00     0.969907\n",
      "    income           0.16     0.692200\n",
      "    distance         0.00     0.955528\n",
      "    calories         0.40     0.530086\n"
     ]
    }
   ],
   "source": [
    "#Import various select transform along with \n",
    "#the f_regression mode\n",
    "\n",
    "from sklearn.feature_selection import SelectKBest,  \\\n",
    "                                    SelectPercentile, \\\n",
    "                                    GenericUnivariateSelect, \\\n",
    "                                    f_regression\n",
    " \n",
    "selectorK = SelectKBest(score_func=f_regression,k = 3)\n",
    "\n",
    "x_k = selectorK.fit_transform(x,y)\n",
    "\n",
    "#get the f_score and P_values\n",
    "f_score = selectorK.scores_\n",
    "p_values = selectorK.pvalues_\n",
    "\n",
    "# print the table of features, f_score and P_values\n",
    "columns= list(x.columns)\n",
    "\n",
    "print(\"  \")\n",
    "print(\"  \")\n",
    "print(\"  \")\n",
    "\n",
    "print (\"  features  \",\"   f_score   \",\"   P-values  \")\n",
    "print (\" .............  \",\"  ........   \",\"   ....... \")\n",
    "\n",
    "for i in range (0,len(columns)):\n",
    "    f1 = \"%4.2f\" %f_score[i]\n",
    "    p1 = \"%2.6f\" % p_values[i]\n",
    "    print(\"   \",columns[i].ljust(12),f1.rjust(8),\"   \",p1)\n",
    "\n"
   ]
  },
  {
   "cell_type": "code",
   "execution_count": 4,
   "metadata": {},
   "outputs": [
    {
     "name": "stdout",
     "output_type": "stream",
     "text": [
      "['Hours', 'sHours', 'calories']\n"
     ]
    }
   ],
   "source": [
    "#get_support method will give you the selected columns name \n",
    "cols = selectorK.get_support(indices=True)\n",
    "\n",
    "selectd_cols = x.columns[cols].tolist()\n",
    "print(selectd_cols)"
   ]
  },
  {
   "cell_type": "code",
   "execution_count": 5,
   "metadata": {},
   "outputs": [],
   "source": [
    "#select percentile \n",
    "# it is same as selctKBest\n",
    "selctorP = SelectPercentile(score_func=f_regression,percentile=50)\n",
    "\n",
    "x_p = selctorP.fit_transform(x,y)"
   ]
  },
  {
   "cell_type": "code",
   "execution_count": 6,
   "metadata": {},
   "outputs": [],
   "source": [
    "#implement GenericvariateSelect kBest\n",
    "\n",
    "selectorG1 = GenericUnivariateSelect(score_func=f_regression,\n",
    "                                     mode='k_best'\n",
    "                                     ,param=3)\n",
    "x_G1 = selectorG1.fit_transform(x,y)"
   ]
  },
  {
   "cell_type": "code",
   "execution_count": 7,
   "metadata": {},
   "outputs": [],
   "source": [
    "#implement GenericvariateSelect percentile\n",
    "\n",
    "selectorp1 = GenericUnivariateSelect(score_func=f_regression,\n",
    "                                     mode='percentile',\n",
    "                                     param=50)\n",
    "\n",
    "x_p1 = selectorp1.fit_transform(x,y)"
   ]
  }
 ],
 "metadata": {
  "kernelspec": {
   "display_name": "Python 3",
   "language": "python",
   "name": "python3"
  },
  "language_info": {
   "codemirror_mode": {
    "name": "ipython",
    "version": 3
   },
   "file_extension": ".py",
   "mimetype": "text/x-python",
   "name": "python",
   "nbconvert_exporter": "python",
   "pygments_lexer": "ipython3",
   "version": "3.11.4"
  }
 },
 "nbformat": 4,
 "nbformat_minor": 2
}
