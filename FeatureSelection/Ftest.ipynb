{
 "cells": [
  {
   "cell_type": "code",
   "execution_count": 5,
   "metadata": {},
   "outputs": [],
   "source": [
    "#f teat using F-reggresion\n",
    "import pandas as pd\n",
    "\n",
    "f = pd.read_csv(\"C:\\\\Users\\\\2004674\\\\Downloads\\\\Students2.csv\")"
   ]
  },
  {
   "cell_type": "code",
   "execution_count": 6,
   "metadata": {},
   "outputs": [],
   "source": [
    "#split the data nto dependent (Y) and independent (x) features\n",
    "\n",
    "x = f.iloc[:,:-1]\n",
    "y = f.iloc[:,-1]"
   ]
  },
  {
   "cell_type": "code",
   "execution_count": 7,
   "metadata": {},
   "outputs": [],
   "source": [
    "# perform linear Regrresion using origanal dataset\n",
    "from sklearn.linear_model import LinearRegression\n",
    "\n",
    "lr = LinearRegression()"
   ]
  },
  {
   "cell_type": "code",
   "execution_count": 4,
   "metadata": {},
   "outputs": [],
   "source": [
    "\n",
    "from sklearn.model_selection import train_test_split\n",
    "\n",
    "x_train,x_test,y_train,y_test = \\\n",
    "train_test_split(x,y,test_size=0.4,random_state=1234)"
   ]
  },
  {
   "cell_type": "code",
   "execution_count": 8,
   "metadata": {},
   "outputs": [],
   "source": [
    "# fit the data and predict Y\n",
    "lr.fit(x_train,y_train)\n",
    "y_predict =lr.predict(x_test)"
   ]
  },
  {
   "cell_type": "code",
   "execution_count": 10,
   "metadata": {},
   "outputs": [],
   "source": [
    "# calculate the RMSE  error for the reggression\n",
    "from sklearn.metrics import mean_squared_error\n",
    "\n",
    "import math\n",
    "\n",
    "rmse = math.sqrt(mean_squared_error(y_test,y_predict))"
   ]
  },
  {
   "cell_type": "code",
   "execution_count": 13,
   "metadata": {},
   "outputs": [
    {
     "name": "stdout",
     "output_type": "stream",
     "text": [
      "(array([1.41905913e+02, 4.57019756e+00, 1.44882087e-03, 1.59990513e-01,\n",
      "       3.16606568e-03, 4.04208927e-01]), array([1.77038466e-12, 4.14028344e-02, 9.69907241e-01, 6.92200477e-01,\n",
      "       9.55528076e-01, 5.30086171e-01]))\n"
     ]
    }
   ],
   "source": [
    "# import f_reggresion from sklearn\n",
    "from sklearn.feature_selection import f_regression as fr\n",
    "result=fr(x,y)\n",
    "print(result)"
   ]
  },
  {
   "cell_type": "code",
   "execution_count": 14,
   "metadata": {},
   "outputs": [],
   "source": [
    "f_score = result[0]\n",
    "p_values = result[1]"
   ]
  },
  {
   "cell_type": "code",
   "execution_count": 20,
   "metadata": {},
   "outputs": [
    {
     "name": "stdout",
     "output_type": "stream",
     "text": [
      "  \n",
      "  \n",
      "  \n",
      "  features      f_score       P-values  \n",
      " .............     ........       ....... \n",
      "    Hours          141.91     0.000000\n",
      "    sHours           4.57     0.041403\n",
      "    hoursplayed      0.00     0.969907\n",
      "    income           0.16     0.692200\n",
      "    distance         0.00     0.955528\n",
      "    calories         0.40     0.530086\n"
     ]
    }
   ],
   "source": [
    "# print the table of features, f_score and P_values\n",
    "columns= list(x.columns)\n",
    "\n",
    "print(\"  \")\n",
    "print(\"  \")\n",
    "print(\"  \")\n",
    "\n",
    "print (\"  features  \",\"   f_score   \",\"   P-values  \")\n",
    "print (\" .............  \",\"  ........   \",\"   ....... \")\n",
    "\n",
    "for i in range (0,len(columns)):\n",
    "    f1 = \"%4.2f\" %f_score[i]\n",
    "    p1 = \"%2.6f\" % p_values[i]\n",
    "    print(\"   \",columns[i].ljust(12),f1.rjust(8),\"   \",p1)"
   ]
  },
  {
   "cell_type": "code",
   "execution_count": 21,
   "metadata": {},
   "outputs": [],
   "source": [
    "# from the above calculation we find that the value of p is greatter than 0.05 for\n",
    "# feature such as hoursplayed,income,distance ,calories"
   ]
  },
  {
   "cell_type": "code",
   "execution_count": 25,
   "metadata": {},
   "outputs": [],
   "source": [
    "# will it have an impact after dropping \n",
    "# perform the linear regression with reduced feature\n",
    "\n",
    "x_train_n =x_train[['Hours','sHours']]\n",
    "x_test_n =x_test[['Hours','sHours']]"
   ]
  },
  {
   "cell_type": "code",
   "execution_count": 26,
   "metadata": {},
   "outputs": [],
   "source": [
    "# fit the data and predict Y\n",
    "lr.fit(x_train_n,y_train)\n",
    "y_predict_n =lr.predict(x_test_n)\n",
    "\n",
    "\n",
    "rmse_N = math.sqrt(mean_squared_error(y_test,y_predict_n))"
   ]
  }
 ],
 "metadata": {
  "kernelspec": {
   "display_name": "Python 3",
   "language": "python",
   "name": "python3"
  },
  "language_info": {
   "codemirror_mode": {
    "name": "ipython",
    "version": 3
   },
   "file_extension": ".py",
   "mimetype": "text/x-python",
   "name": "python",
   "nbconvert_exporter": "python",
   "pygments_lexer": "ipython3",
   "version": "3.11.4"
  }
 },
 "nbformat": 4,
 "nbformat_minor": 2
}
