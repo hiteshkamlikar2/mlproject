{
 "cells": [
  {
   "cell_type": "code",
   "execution_count": 1,
   "metadata": {},
   "outputs": [
    {
     "data": {
      "text/plain": [
       "'hiteshKamlikar'"
      ]
     },
     "execution_count": 1,
     "metadata": {},
     "output_type": "execute_result"
    }
   ],
   "source": [
    "def hitesh(firstName,LastName):\n",
    "    fullname=(firstName + LastName)\n",
    "    return fullname\n",
    "hitesh(\"hitesh\",\"Kamlikar\")\n"
   ]
  },
  {
   "cell_type": "code",
   "execution_count": 6,
   "metadata": {},
   "outputs": [
    {
     "data": {
      "text/plain": [
       "'hitesh Kamlikar'"
      ]
     },
     "execution_count": 6,
     "metadata": {},
     "output_type": "execute_result"
    }
   ],
   "source": [
    "def hitesh(*firstName):\n",
    "    fullname=(firstName[0] + \" \" + firstName[1] )\n",
    "    return fullname\n",
    "hitesh(\"hitesh\",\"Kamlikar\")"
   ]
  },
  {
   "cell_type": "code",
   "execution_count": 12,
   "metadata": {},
   "outputs": [
    {
     "name": "stdout",
     "output_type": "stream",
     "text": [
      "his first name is hitesh  and last name is kamlikarand he is from Nagpur\n"
     ]
    }
   ],
   "source": [
    "def newfunc (**fname):\n",
    "    print(\"his first name is \" + fname[\"name\"] + \" \" +\" and last name is \" + fname[\"lname\"] + \"and he is from \"+ fname[\"city\"])\n",
    "\n",
    "newfunc(name = \"hitesh\", lname =\"kamlikar\",city = \"Nagpur\")"
   ]
  },
  {
   "cell_type": "code",
   "execution_count": 25,
   "metadata": {},
   "outputs": [
    {
     "ename": "AttributeError",
     "evalue": "'int' object has no attribute 'append'",
     "output_type": "error",
     "traceback": [
      "\u001b[1;31m---------------------------------------------------------------------------\u001b[0m",
      "\u001b[1;31mAttributeError\u001b[0m                            Traceback (most recent call last)",
      "Cell \u001b[1;32mIn[25], line 12\u001b[0m\n\u001b[0;32m     10\u001b[0m list2 \u001b[38;5;241m=\u001b[39m \u001b[38;5;28mint\u001b[39m(\u001b[38;5;28minput\u001b[39m(\u001b[38;5;124m\"\u001b[39m\u001b[38;5;124menter your number\u001b[39m\u001b[38;5;124m\"\u001b[39m))\n\u001b[0;32m     11\u001b[0m list3 \u001b[38;5;241m=\u001b[39m []\n\u001b[1;32m---> 12\u001b[0m \u001b[43mlist2\u001b[49m\u001b[38;5;241;43m.\u001b[39;49m\u001b[43mappend\u001b[49m(list3)\n\u001b[0;32m     13\u001b[0m \u001b[38;5;28mprint\u001b[39m(\u001b[38;5;124m\"\u001b[39m\u001b[38;5;124mlist3\u001b[39m\u001b[38;5;124m\"\u001b[39m,list3)\n\u001b[0;32m     14\u001b[0m \u001b[38;5;66;03m# myfunc1(list3)\u001b[39;00m\n",
      "\u001b[1;31mAttributeError\u001b[0m: 'int' object has no attribute 'append'"
     ]
    }
   ],
   "source": [
    "def myfunc1(numbers):\n",
    "    for i in numbers:\n",
    "        if (i%2==0):\n",
    "            print(\"number is even \",i)\n",
    "        else:\n",
    "            print(\"numbeer is not even\",i)\n",
    "\n",
    "\n",
    "# list1 = [1,2,4,6,9,8,12,15,18]\n",
    "list2 = int(input(\"enter your number\"))\n",
    "list3 = []\n",
    "list2.append(list3)\n",
    "print(\"list3\",list3)\n",
    "# myfunc1(list3)"
   ]
  },
  {
   "cell_type": "code",
   "execution_count": null,
   "metadata": {},
   "outputs": [],
   "source": []
  }
 ],
 "metadata": {
  "kernelspec": {
   "display_name": "Python 3",
   "language": "python",
   "name": "python3"
  },
  "language_info": {
   "codemirror_mode": {
    "name": "ipython",
    "version": 3
   },
   "file_extension": ".py",
   "mimetype": "text/x-python",
   "name": "python",
   "nbconvert_exporter": "python",
   "pygments_lexer": "ipython3",
   "version": "3.11.4"
  }
 },
 "nbformat": 4,
 "nbformat_minor": 2
}
