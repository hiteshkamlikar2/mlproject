{
 "cells": [
  {
   "cell_type": "code",
   "execution_count": 12,
   "metadata": {},
   "outputs": [
    {
     "name": "stdout",
     "output_type": "stream",
     "text": [
      "\n",
      " The best parameters are:\n",
      "{'n_estimators': 15, 'min_samples_split': 16, 'min_samples_leaf': 5}\n"
     ]
    }
   ],
   "source": [
    "#import Libraries\n",
    "import pandas as pd\n",
    "\n",
    "#Read dataset\n",
    "data = pd.read_csv(\"C:\\\\Users\\\\2004674\\\\Downloads\\\\04+-+decisiontreeAdultIncome (3).csv\")\n",
    " #create dummy variables \n",
    "data_prep = pd.get_dummies(data, drop_first=True)\n",
    "# split the data into x (independent ) and y (predicted)\n",
    "x = data_prep.iloc[:,:-1]\n",
    "y= data_prep.iloc[:,-1]\n",
    "#import and create random forest classifier\n",
    "from sklearn.ensemble import RandomForestClassifier\n",
    "rfc = RandomForestClassifier(random_state=1234)\n",
    "\n",
    "#import RandomizedSearchCV\n",
    "from sklearn.model_selection import RandomizedSearchCV\n",
    "\n",
    "#define parameters for Random forest\n",
    "rfc_param = {'n_estimators':[10,15,20],\n",
    "             'min_samples_split':[8,16],\n",
    "             'min_samples_leaf':[1,2,3,4,5]\n",
    "             }\n",
    "# the parameters results in 3x2x5 = 30 different combinations\n",
    "\n",
    "#create the RandomizedSearchCV object \n",
    "rfc_rs = RandomizedSearchCV(estimator=rfc,\n",
    "                            param_distributions=rfc_param,\n",
    "                            scoring='accuracy',\n",
    "                            cv=10,\n",
    "                            n_iter=10,\n",
    "                            return_train_score=True,\n",
    "                            random_state=1234)\n",
    "\n",
    "# n_iter select 10 combination out of 30 possible\n",
    "# now 10 x10 = 100 jobs will be executed\n",
    "\n",
    "#fit the data to randomizedSearchCV object \n",
    "rfc_rs_fit = rfc_rs.fit(x,y)\n",
    "# get the results of RandomizedSearch\n",
    "cv_result_rs = pd.DataFrame.from_dict(rfc_rs_fit.cv_results_)\n",
    "\n",
    "# print the best parameter of Randomized Search for\n",
    "print('\\n The best parameters are:')\n",
    "print(rfc_rs_fit.best_params_)"
   ]
  },
  {
   "cell_type": "code",
   "execution_count": 6,
   "metadata": {},
   "outputs": [
    {
     "name": "stdout",
     "output_type": "stream",
     "text": [
      "[2, 4, 6, 8, 64, 66]\n"
     ]
    }
   ],
   "source": [
    "a=[2,3,4,5,6,7,8,89,67,64,66]\n",
    "b= [i for i in a if i%2 ==0]\n",
    "print(b)\n"
   ]
  }
 ],
 "metadata": {
  "kernelspec": {
   "display_name": "Python 3",
   "language": "python",
   "name": "python3"
  },
  "language_info": {
   "codemirror_mode": {
    "name": "ipython",
    "version": 3
   },
   "file_extension": ".py",
   "mimetype": "text/x-python",
   "name": "python",
   "nbconvert_exporter": "python",
   "pygments_lexer": "ipython3",
   "version": "3.11.4"
  }
 },
 "nbformat": 4,
 "nbformat_minor": 2
}
