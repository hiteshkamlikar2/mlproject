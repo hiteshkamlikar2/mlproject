{
 "cells": [
  {
   "cell_type": "code",
   "execution_count": 6,
   "metadata": {},
   "outputs": [
    {
     "name": "stdout",
     "output_type": "stream",
     "text": [
      "FTP error: [WinError 10060] A connection attempt failed because the connected party did not properly respond after a period of time, or established connection failed because connected host has failed to respond\n",
      "Error quitting FTP: 'NoneType' object has no attribute 'sendall'\n"
     ]
    }
   ],
   "source": [
    "import ftplib\n",
    "\n",
    "# Define your FTP server credentials\n",
    "FTP_HOST = \"P1AP2WV-1409.Kfintech.com\"  # Replace with your FTP server address\n",
    "FTP_USER = \"2004676\"                    # Replace with your FTP username\n",
    "FTP_PASS = \"mslD@1242638\"                # Replace with your FTP password\n",
    "\n",
    "ftp = None  # Initialize ftp variable\n",
    "\n",
    "try:\n",
    "    # Connect to the FTP server\n",
    "    ftp = ftplib.FTP(timeout=30)  # Set a timeout\n",
    "    ftp.connect(FTP_HOST)\n",
    "    ftp.login(FTP_USER, FTP_PASS)\n",
    "\n",
    "    # Enable passive mode\n",
    "    ftp.set_pasv(True)\n",
    "    ftp.set_debuglevel(2)  # Enable debug output for troubleshooting\n",
    "\n",
    "    # Specify the local file name you want to upload\n",
    "    local_filename = r\"C:\\Users\\2004674\\Desktop\\DataScience\\PRactise\\CrossValidation\\dummy\\empty.txt\"\n",
    "\n",
    "    # Open the file in binary read mode and upload it\n",
    "    with open(local_filename, \"rb\") as file:\n",
    "        # Use only the file name for the remote file\n",
    "        remote_filename = local_filename.split('\\\\')[-1]  # Extract just the file name\n",
    "        ftp.storbinary(f\"STOR {remote_filename}\", file)\n",
    "\n",
    "    print(\"File uploaded successfully!\")\n",
    "\n",
    "    # Optionally, list the files in the current directory on the FTP server\n",
    "    print(\"Files on server:\")\n",
    "    ftp.dir()\n",
    "\n",
    "except ftplib.all_errors as e:\n",
    "    print(f\"FTP error: {e}\")\n",
    "\n",
    "finally:\n",
    "    # Close the FTP connection if it was established\n",
    "    if ftp is not None:\n",
    "        try:\n",
    "            ftp.quit()\n",
    "        except Exception as quit_error:\n",
    "            print(f\"Error quitting FTP: {quit_error}\")"
   ]
  },
  {
   "cell_type": "markdown",
   "metadata": {},
   "source": [
    "# code to transfer file from s3 bucket to Ftp server."
   ]
  },
  {
   "cell_type": "code",
   "execution_count": null,
   "metadata": {},
   "outputs": [],
   "source": [
    "import os\n",
    "import boto3\n",
    "from ftplib import FTP\n",
    "\n",
    "# Configuration for S3 and FTP\n",
    "S3_BUCKET_NAME = 'your-s3-bucket-name'\n",
    "S3_FILE_KEY = 'path/to/your/file.txt'  # S3 file path\n",
    "FTP_HOST = 'ftp.yourftpserver.com'\n",
    "FTP_USER = 'your_ftp_username'\n",
    "FTP_PASSWORD = 'your_ftp_password'\n",
    "FTP_DESTINATION_PATH = '/path/on/ftp/'  # Destination path on the FTP server\n",
    "\n",
    "# Initialize S3 client\n",
    "s3 = boto3.client('s3')\n",
    "\n",
    "# Download the file from S3 to a temporary location\n",
    "temp_file_path = '/tmp/' + os.path.basename(S3_FILE_KEY)\n",
    "s3.download_file(S3_BUCKET_NAME, S3_FILE_KEY, temp_file_path)\n",
    "\n",
    "# Connect to the FTP server\n",
    "with FTP(FTP_HOST) as ftp:\n",
    "    ftp.login(FTP_USER, FTP_PASSWORD)\n",
    "    ftp.cwd(FTP_DESTINATION_PATH)\n",
    "\n",
    "    # Open the file and upload it to the FTP server\n",
    "    with open(temp_file_path, 'rb') as file:\n",
    "        ftp.storbinary(f'STOR {os.path.basename(S3_FILE_KEY)}', file)\n",
    "\n",
    "# Clean up the temporary file\n",
    "os.remove(temp_file_path)\n",
    "\n",
    "print(\"File transferred successfully from S3 to FTP server.\")"
   ]
  }
 ],
 "metadata": {
  "kernelspec": {
   "display_name": "Python 3",
   "language": "python",
   "name": "python3"
  },
  "language_info": {
   "codemirror_mode": {
    "name": "ipython",
    "version": 3
   },
   "file_extension": ".py",
   "mimetype": "text/x-python",
   "name": "python",
   "nbconvert_exporter": "python",
   "pygments_lexer": "ipython3",
   "version": "3.11.4"
  }
 },
 "nbformat": 4,
 "nbformat_minor": 2
}
