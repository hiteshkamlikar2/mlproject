{
 "cells": [
  {
   "cell_type": "code",
   "execution_count": 2,
   "metadata": {},
   "outputs": [],
   "source": [
    "import pandas as pd \n",
    "dataset = pd.read_csv(\"C:\\\\Users\\\\2004674\\\\Downloads\\\\04+-+decisiontreeAdultIncome (1).csv\")\n",
    "\n",
    "data_prep = pd.get_dummies(dataset,drop_first=True)\n",
    "\n",
    "# split the data into x (independent ) and y (predicted)\n",
    "x = data_prep.iloc[:,:-1]\n",
    "y = data_prep.iloc[:,-1]"
   ]
  },
  {
   "cell_type": "code",
   "execution_count": 3,
   "metadata": {},
   "outputs": [],
   "source": [
    "#import and train desicion tree classifier\n",
    "\n",
    "from sklearn.tree import DecisionTreeClassifier\n",
    "\n",
    "dtc = DecisionTreeClassifier(random_state=1234)"
   ]
  },
  {
   "cell_type": "code",
   "execution_count": 4,
   "metadata": {},
   "outputs": [],
   "source": [
    "# import and train support vector classifier\n",
    "\n",
    "from sklearn.svm import SVC\n",
    "svc = SVC(kernel='rbf', gamma=0.5)"
   ]
  },
  {
   "cell_type": "code",
   "execution_count": 5,
   "metadata": {},
   "outputs": [],
   "source": [
    "from sklearn.ensemble import RandomForestClassifier\n",
    "rfc = RandomForestClassifier(random_state=1234)"
   ]
  },
  {
   "cell_type": "code",
   "execution_count": 1,
   "metadata": {},
   "outputs": [],
   "source": [
    "from sklearn.linear_model import LogisticRegression\n",
    "\n",
    "lrc = LogisticRegression(random_state=1234)"
   ]
  },
  {
   "cell_type": "code",
   "execution_count": 12,
   "metadata": {},
   "outputs": [],
   "source": [
    "#cross validation\n",
    "\n",
    "from sklearn.model_selection import cross_validate\n",
    "\n",
    "# store the cv result\n",
    "cv_result_dtc = cross_validate(dtc,x,y,cv=10,return_train_score=True)\n",
    "cv_result_rfc = cross_validate(rfc,x,y,cv=10,return_train_score=True)\n",
    "cv_result_svc = cross_validate(svc,x,y,cv=10,return_train_score=True)\n",
    "cv_result_lrc = cross_validate(lrc,x,y,cv=10,return_train_score=True)\n",
    "# cv = 10 means k fold = 10\n"
   ]
  },
  {
   "cell_type": "code",
   "execution_count": 14,
   "metadata": {},
   "outputs": [],
   "source": [
    "import numpy as np\n",
    "dtc_test_avg = np.average(cv_result_dtc['test_score'])\n",
    "rfc_test_avg = np.average(cv_result_rfc['test_score'])\n",
    "svc_test_avg = np.average(cv_result_svc['test_score'])"
   ]
  },
  {
   "cell_type": "code",
   "execution_count": 17,
   "metadata": {},
   "outputs": [],
   "source": [
    "dtc_train_avg = np.average(cv_result_dtc['train_score'])\n",
    "rfc_train_avg = np.average(cv_result_rfc['train_score'])\n",
    "svc_train_avg = np.average(cv_result_svc['train_score'])"
   ]
  },
  {
   "cell_type": "code",
   "execution_count": 19,
   "metadata": {},
   "outputs": [
    {
     "name": "stdout",
     "output_type": "stream",
     "text": [
      "\n",
      "\n",
      "            DecisionTree  Random forest  Support Vector   \n",
      "            ------------ ------------ ---------\n",
      "Test       : 0.7811         0.7972         0.8036\n",
      "Train       : 0.9044         0.9043         0.8745\n"
     ]
    }
   ],
   "source": [
    "# print and analyis the result \n",
    "print()\n",
    "print()\n",
    "print('           ','DecisionTree ', 'Random forest ', 'Support Vector   ')\n",
    "print('           ','------------','------------','---------')\n",
    "\n",
    "print(\"Test       :\",\n",
    "      round(dtc_test_avg,4), '       ',\n",
    "      round(rfc_test_avg,4), '       ',\n",
    "      round(svc_test_avg,4))\n",
    "print(\"Train       :\",\n",
    "      round(dtc_train_avg,4), '       ',\n",
    "      round(rfc_train_avg,4), '       ',\n",
    "      round(svc_train_avg,4))"
   ]
  }
 ],
 "metadata": {
  "kernelspec": {
   "display_name": "Python 3",
   "language": "python",
   "name": "python3"
  },
  "language_info": {
   "codemirror_mode": {
    "name": "ipython",
    "version": 3
   },
   "file_extension": ".py",
   "mimetype": "text/x-python",
   "name": "python",
   "nbconvert_exporter": "python",
   "pygments_lexer": "ipython3",
   "version": "3.11.4"
  }
 },
 "nbformat": 4,
 "nbformat_minor": 2
}
